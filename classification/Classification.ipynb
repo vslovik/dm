{
 "cells": [
  {
   "cell_type": "code",
   "execution_count": 1,
   "metadata": {
    "collapsed": true
   },
   "outputs": [],
   "source": [
    "# Classification\n",
    "\n",
    "# Using the Titanic dataset with target variable “Survived”, \n",
    "# extract one classification model for each of the following approaches: \n",
    "# kNN, SVM, Neural Networks, Naive Bayes. \n",
    "\n",
    "# For at least one of them, perform a search to select the parameters \n",
    "# that optimize accuracy. \n",
    "\n",
    "# For all the others, simply choose reasonable parameters values. \n",
    "\n",
    "# After dividing the dataset in training and test sets, \n",
    "# provide for all the models the confusion matrix, accuracy, \n",
    "# precision & recall for the positive class.\n",
    "\n",
    "%matplotlib inline\n",
    "import numpy as np\n",
    "import pandas as pd\n",
    "import matplotlib.pyplot as plt\n",
    "\n",
    "def clean_data(df, drop_passenger_id):\n",
    "    \n",
    "    # Get the unique values of Sex\n",
    "    sexes = sorted(df['Sex'].unique())\n",
    "    \n",
    "    # Generate a mapping of Sex from a string to a number representation    \n",
    "    genders_mapping = dict(zip(sexes, range(0, len(sexes) + 1)))\n",
    "\n",
    "    # Transform Sex from a string to a number representation\n",
    "    df['Sex_Val'] = df['Sex'].map(genders_mapping).astype(int)\n",
    "    \n",
    "    # Get the unique values of Embarked\n",
    "    embarked_locs = sorted(df['Embarked'].fillna('S').unique())\n",
    "\n",
    "    # Generate a mapping of Embarked from a string to a number representation        \n",
    "    embarked_locs_mapping = dict(zip(embarked_locs, \n",
    "                                     range(0, len(embarked_locs) + 1)))\n",
    "    \n",
    "    # Transform Embarked from a string to dummy variables\n",
    "    df = pd.concat([df, pd.get_dummies(df['Embarked'], prefix='Embarked_Val')], axis=1)\n",
    "    \n",
    "    df['Fare'].fillna(df['Fare'].mean())\n",
    "    \n",
    "    # To keep Age intact, make a copy of it called AgeFill \n",
    "    # that we will use to fill in the missing ages:\n",
    "    df['AgeFill'] = df['Age']\n",
    "\n",
    "    # Determine the Age typical for each passenger class by Sex_Val.  \n",
    "    # We'll use the median instead of the mean because the Age \n",
    "    # histogram seems to be right skewed.\n",
    "    df['AgeFill'] = df['AgeFill'] \\\n",
    "                        .groupby([df['Sex_Val'], df['Pclass']]) \\\n",
    "                        .apply(lambda x: x.fillna(x.median()))\n",
    "            \n",
    "    # Define a new feature FamilySize that is the sum of \n",
    "    # Parch (number of parents or children on board) and \n",
    "    # SibSp (number of siblings or spouses):\n",
    "    df['FamilySize'] = df['SibSp'] + df['Parch']\n",
    "    \n",
    "    # Drop the columns we won't use:\n",
    "    df = df.drop(['Name', 'Sex', 'Ticket', 'Cabin', 'Embarked'], axis=1)\n",
    "    \n",
    "    # Drop the Age column since we will be using the AgeFill column instead.\n",
    "    # Drop the SibSp and Parch columns since we will be using FamilySize.\n",
    "    # Drop the PassengerId column since it won't be used as a feature.\n",
    "    df = df.drop(['Age', 'SibSp', 'Parch'], axis=1)\n",
    "    \n",
    "    if drop_passenger_id:\n",
    "        df = df.drop(['PassengerId'], axis=1)\n",
    "    \n",
    "    return df"
   ]
  },
  {
   "cell_type": "code",
   "execution_count": 2,
   "metadata": {
    "collapsed": true
   },
   "outputs": [],
   "source": [
    "df_train = pd.read_csv(\"titanic_train.csv\") \n",
    "df_train = clean_data(df_train, drop_passenger_id=True)\n",
    "\n",
    "# Convert the DataFrame to a numpy array:\n",
    "train_data = df_train.values\n",
    "\n",
    "# Training data features, skip the first column 'Survived'\n",
    "X = train_data[:, 1:]\n",
    "\n",
    "# 'Survived' column values\n",
    "y = train_data[:, 0]\n",
    "\n",
    "# Dividing the dataset in training and test sets \n",
    "from sklearn.model_selection import train_test_split\n",
    "train_x, test_x, train_y, test_y = train_test_split(X, y, test_size=0.20, random_state=0)"
   ]
  },
  {
   "cell_type": "code",
   "execution_count": 19,
   "metadata": {},
   "outputs": [
    {
     "name": "stdout",
     "output_type": "stream",
     "text": [
      "[[95 15]\n",
      " [34 35]]\n",
      "              precision    recall  f1-score   support\n",
      "\n",
      "Not Survived       0.74      0.86      0.79       110\n",
      "    Survived       0.70      0.51      0.59        69\n",
      "\n",
      " avg / total       0.72      0.73      0.72       179\n",
      "\n"
     ]
    },
    {
     "data": {
      "image/png": "[encoded data removed]",
      "text/plain": [
       "<matplotlib.figure.Figure at 0x7f7f38b49978>"
      ]
     },
     "metadata": {},
     "output_type": "display_data"
    },
    {
     "name": "stdout",
     "output_type": "stream",
     "text": [
      "[[107   3]\n",
      " [ 61   8]]\n",
      "              precision    recall  f1-score   support\n",
      "\n",
      "Not Survived       0.64      0.97      0.77       110\n",
      "    Survived       0.73      0.12      0.20        69\n",
      "\n",
      " avg / total       0.67      0.64      0.55       179\n",
      "\n"
     ]
    },
    {
     "data": {
      "image/png": "[encoded data removed]",
      "text/plain": [
       "<matplotlib.figure.Figure at 0x7f7f38d536a0>"
      ]
     },
     "metadata": {},
     "output_type": "display_data"
    },
    {
     "name": "stdout",
     "output_type": "stream",
     "text": [
      "[[94 16]\n",
      " [21 48]]\n",
      "              precision    recall  f1-score   support\n",
      "\n",
      "Not Survived       0.82      0.85      0.84       110\n",
      "    Survived       0.75      0.70      0.72        69\n",
      "\n",
      " avg / total       0.79      0.79      0.79       179\n",
      "\n"
     ]
    },
    {
     "data": {
      "image/png": "[encoded data removed]",
      "text/plain": [
       "<matplotlib.figure.Figure at 0x7f7f392aa240>"
      ]
     },
     "metadata": {},
     "output_type": "display_data"
    },
    {
     "name": "stdout",
     "output_type": "stream",
     "text": [
      "[[91 19]\n",
      " [15 54]]\n",
      "              precision    recall  f1-score   support\n",
      "\n",
      "Not Survived       0.86      0.83      0.84       110\n",
      "    Survived       0.74      0.78      0.76        69\n",
      "\n",
      " avg / total       0.81      0.81      0.81       179\n",
      "\n"
     ]
    },
    {
     "data": {
      "image/png": "[encoded data removed]",
      "text/plain": [
       "<matplotlib.figure.Figure at 0x7f7f38c6ac88>"
      ]
     },
     "metadata": {},
     "output_type": "display_data"
    }
   ],
   "source": [
    "from sklearn.metrics import confusion_matrix\n",
    "from sklearn.metrics import classification_report\n",
    "\n",
    "from sklearn.neighbors import KNeighborsClassifier\n",
    "from sklearn.svm import SVC\n",
    "from sklearn.neural_network import MLPClassifier\n",
    "from sklearn.naive_bayes import GaussianNB\n",
    "\n",
    "from mpl_toolkits.axes_grid1 import make_axes_locatable\n",
    "\n",
    "names = [\"Nearest Neighbors\", #\"Linear SVM\",\n",
    "         \"RBF SVM\", \"Neural Net\", \"Naive Bayes\"]\n",
    "\n",
    "classifiers = [\n",
    "    KNeighborsClassifier(3),\n",
    "#     SVC(kernel=\"linear\", C=0.025),\n",
    "    SVC(gamma=2, C=1),\n",
    "    MLPClassifier(alpha=1),\n",
    "    GaussianNB()\n",
    "]\n",
    "\n",
    "\n",
    "\n",
    "# Iterate over classifiers\n",
    "for (ax, cax), name, clf in zip([(ax1, ax2), (ax3, ax4), (ax5, ax6), (ax7, ax8)], names, classifiers):\n",
    "    clf.fit(train_x, train_y)\n",
    "    test_pred = clf.predict(test_x)\n",
    "    score = clf.score(test_x, test_y)\n",
    "    cm = confusion_matrix(test_y, test_pred)\n",
    "    print(cm)    \n",
    "    print(classification_report(test_y, \n",
    "                            test_pred, \n",
    "                            target_names=['Not Survived', 'Survived']))\n",
    "    \n",
    "    plt.close('all')\n",
    "    plt.matshow(cm)\n",
    "    plt.title('Confusion matrix')\n",
    "    plt.colorbar()\n",
    "    plt.ylabel('True label')\n",
    "    plt.xlabel('Predicted label')\n",
    "    plt.show()"
   ]
  }
 ],
 "metadata": {
  "kernelspec": {
   "display_name": "Python 3",
   "language": "python",
   "name": "python3"
  },
  "language_info": {
   "codemirror_mode": {
    "name": "ipython",
    "version": 3.0
   },
   "file_extension": ".py",
   "mimetype": "text/x-python",
   "name": "python",
   "nbconvert_exporter": "python",
   "pygments_lexer": "ipython3",
   "version": "3.5.2"
  }
 },
 "nbformat": 4,
 "nbformat_minor": 0
}