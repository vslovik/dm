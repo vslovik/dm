{
 "cells": [
  {
   "cell_type": "code",
   "execution_count": 70,
   "metadata": {},
   "outputs": [
    {
     "name": "stdout",
     "output_type": "stream",
     "text": [
      "Automatically created module for IPython interactive environment\n"
     ]
    }
   ],
   "source": [
    "# http://scikit-learn.org/dev/auto_examples/neighbors/plot_lof.html\n",
    "# ToDo: different metrics  \n",
    "       \n",
    "print(__doc__)\n",
    "\n",
    "import numpy as np\n",
    "import matplotlib.pyplot as plt\n",
    "from sklearn.neighbors import LocalOutlierFactor"
   ]
  },
  {
   "cell_type": "code",
   "execution_count": 35,
   "metadata": {
    "collapsed": true
   },
   "outputs": [],
   "source": [
    "LocalOutlierFactor??"
   ]
  },
  {
   "cell_type": "code",
   "execution_count": 72,
   "metadata": {},
   "outputs": [
    {
     "data": {
      "text/html": [
       "<div>\n",
       "<style>\n",
       "    .dataframe thead tr:only-child th {\n",
       "        text-align: right;\n",
       "    }\n",
       "\n",
       "    .dataframe thead th {\n",
       "        text-align: left;\n",
       "    }\n",
       "\n",
       "    .dataframe tbody tr th {\n",
       "        vertical-align: top;\n",
       "    }\n",
       "</style>\n",
       "<table border=\"1\" class=\"dataframe\">\n",
       "  <thead>\n",
       "    <tr style=\"text-align: right;\">\n",
       "      <th></th>\n",
       "      <th>0</th>\n",
       "      <th>1</th>\n",
       "    </tr>\n",
       "  </thead>\n",
       "  <tbody>\n",
       "    <tr>\n",
       "      <th>0</th>\n",
       "      <td>0.412560</td>\n",
       "      <td>0.582276</td>\n",
       "    </tr>\n",
       "    <tr>\n",
       "      <th>1</th>\n",
       "      <td>0.379856</td>\n",
       "      <td>0.507856</td>\n",
       "    </tr>\n",
       "    <tr>\n",
       "      <th>2</th>\n",
       "      <td>0.379528</td>\n",
       "      <td>0.512318</td>\n",
       "    </tr>\n",
       "    <tr>\n",
       "      <th>3</th>\n",
       "      <td>0.642490</td>\n",
       "      <td>0.681989</td>\n",
       "    </tr>\n",
       "    <tr>\n",
       "      <th>4</th>\n",
       "      <td>0.462998</td>\n",
       "      <td>0.327923</td>\n",
       "    </tr>\n",
       "  </tbody>\n",
       "</table>\n",
       "</div>"
      ],
      "text/plain": [
       "          0         1\n",
       "0  0.412560  0.582276\n",
       "1  0.379856  0.507856\n",
       "2  0.379528  0.512318\n",
       "3  0.642490  0.681989\n",
       "4  0.462998  0.327923"
      ]
     },
     "execution_count": 72,
     "metadata": {},
     "output_type": "execute_result"
    }
   ],
   "source": [
    "import pandas as pd\n",
    "df = pd.read_csv(\"outlier_dataset.csv\", sep=' ', header=None)\n",
    "df.dtypes\n",
    "df.head()"
   ]
  },
  {
   "cell_type": "code",
   "execution_count": 73,
   "metadata": {},
   "outputs": [
    {
     "data": {
      "text/plain": [
       "0.89379514557200002"
      ]
     },
     "execution_count": 73,
     "metadata": {},
     "output_type": "execute_result"
    }
   ],
   "source": [
    "X = df.as_matrix()\n",
    "X[:, 1].max()"
   ]
  },
  {
   "cell_type": "code",
   "execution_count": 9,
   "metadata": {
    "collapsed": true
   },
   "outputs": [],
   "source": [
    "np.cov??"
   ]
  },
  {
   "cell_type": "code",
   "execution_count": 107,
   "metadata": {},
   "outputs": [
    {
     "data": {
      "image/png": "[encoded data removed]",
      "text/plain": [
       "<matplotlib.figure.Figure at 0x7ff244003710>"
      ]
     },
     "metadata": {},
     "output_type": "display_data"
    }
   ],
   "source": [
    "#         - from scikit-learn: ['cityblock', 'cosine', 'euclidean', 'l1', 'l2',\n",
    "#           'manhattan']\n",
    "\n",
    "#         - from scipy.spatial.distance: ['braycurtis', 'canberra', 'chebyshev',\n",
    "#           'correlation', 'dice', 'hamming', 'jaccard', 'kulsinski',\n",
    "#           'mahalanobis', 'matching', 'minkowski', 'rogerstanimoto',\n",
    "#           'russellrao', 'seuclidean', 'sokalmichener', 'sokalsneath',\n",
    "#           'sqeuclidean', 'yule']\n",
    "\n",
    "# metric='mahalanobis'\n",
    "# Must provide either V or VI for Mahalanobis distance\n",
    "\n",
    "# fit the model\n",
    "# https://github.com/scikit-learn/scikit-learn/issues/6269\n",
    "from sklearn.neighbors import DistanceMetric\n",
    "# clf = LocalOutlierFactor(n_neighbors=15\n",
    "#                          , \n",
    "#                                metric='mahalanobis', \n",
    "#                                metric_params={'V': np.cov(X[:,0], X[:,1], rowvar=False)}\n",
    "#                         ) #25\n",
    "\n",
    "clf = LocalOutlierFactor(n_neighbors=100, metric='euclidean') #25\n",
    "y_pred = clf.fit_predict(X)\n",
    "y_pred\n",
    "X[:,0][0]\n",
    "normal_0 = [X[:,0][i] for i in range(0, len(X[:,0])) if y_pred[i] == 1]\n",
    "normal_1 = [X[:,1][i] for i in range(0, len(X[:,0])) if y_pred[i] == 1]\n",
    "abnormal_0 = [X[:,0][i] for i in range(0, len(X[:,0])) if y_pred[i] == -1]\n",
    "abnormal_1 = [X[:,1][i] for i in range(0, len(X[:,0])) if y_pred[i] == -1]\n",
    "\n",
    "# plot the level sets of the decision function\n",
    "plt.close('all')\n",
    "xx, yy = np.meshgrid(np.linspace(-2, 2, 50), np.linspace(-1, 1, 50))\n",
    "Z = clf._decision_function(np.c_[xx.ravel(), yy.ravel()])\n",
    "Z = Z.reshape(xx.shape)\n",
    "\n",
    "plt.title(\"Local Outlier Factor (LOF)\")\n",
    "plt.contourf(xx, yy, Z, cmap=plt.cm.Blues_r)\n",
    "\n",
    "a = plt.scatter(normal_0, normal_1, c='white',\n",
    "                edgecolor='k', s=20)\n",
    "b = plt.scatter(abnormal_0, abnormal_1, c='red',\n",
    "                edgecolor='k', s=20)\n",
    "plt.axis('tight')\n",
    "plt.xlim((-2, 2))\n",
    "plt.ylim((-1, 1))\n",
    "plt.legend([a, b],\n",
    "           [\"normal observations\",\n",
    "            \"abnormal observations\"],\n",
    "           loc=\"upper left\")\n",
    "plt.show()"
   ]
  },
  {
   "cell_type": "code",
   "execution_count": 108,
   "metadata": {},
   "outputs": [
    {
     "data": {
      "text/plain": [
       "array([-1.05158162, -1.05425623, -1.04950498, -1.10919304, -1.09189064,\n",
       "       -1.15178178, -1.0584165 , -1.09586049, -1.13040518, -1.05284543,\n",
       "       -1.1329486 , -1.14248318, -1.10154766, -1.05607827, -1.10672191,\n",
       "       -1.06951977, -1.1144574 , -1.12708679, -1.13149989, -1.08733505,\n",
       "       -1.20793402, -1.09575092, -1.15341004, -1.08494665, -1.07727446,\n",
       "       -1.10874339, -1.13601202, -1.03215523, -1.06111105, -1.16044933,\n",
       "       -1.11454788, -1.085433  , -1.06349757, -1.09376327, -1.04047733,\n",
       "       -1.06483603, -1.05232523, -1.08741039, -1.12798163, -1.09887329,\n",
       "       -1.06230424, -1.09624545, -1.07802817, -1.03885852, -1.04242807,\n",
       "       -1.09409977, -1.1056122 , -1.08909886, -1.08494986, -1.07489506,\n",
       "       -1.11115219, -1.24497462, -1.08847759, -1.03473273, -1.07101556,\n",
       "       -1.07383985, -1.09350185, -1.06309319, -1.05197166, -1.10736659,\n",
       "       -1.11832194, -1.04551818, -0.97289089, -1.08551958, -1.06117211,\n",
       "       -1.11651644, -1.09259057, -1.07804804, -1.09669874, -1.07661906,\n",
       "       -1.08867337, -1.07513752, -1.04990108, -1.12279642, -1.1123271 ,\n",
       "       -1.10690757, -1.05634386, -1.0592509 , -1.03921811, -1.02501595,\n",
       "       -1.0970694 , -1.05754207, -1.08184519, -1.07497882, -1.08429838,\n",
       "       -1.13247143, -1.07688789, -1.08021793, -1.1608379 , -1.1295806 ,\n",
       "       -1.06086188, -0.97670162, -1.10825209, -1.20573769, -0.95132785,\n",
       "       -1.25264713, -1.10332597, -1.22010275, -1.09718353, -1.04033386,\n",
       "       -1.06939147, -1.16779119, -1.07083226, -0.97626721, -1.07536216,\n",
       "       -1.12226722, -1.02372296, -1.22752548, -1.06935473, -0.93916612,\n",
       "       -1.07914925, -1.06233549, -1.03670559, -1.00893345, -1.05777026,\n",
       "       -1.03689458, -1.16060074, -1.09206885, -1.11982145, -1.03095122,\n",
       "       -1.02006184, -0.98674504, -1.0483025 , -1.11521888, -0.94845389,\n",
       "       -1.00460922, -1.16145268, -1.08399946, -1.0871413 , -1.06808885,\n",
       "       -1.1612673 , -1.13278931, -1.01098538, -1.0222242 , -1.07325566,\n",
       "       -1.09385948, -1.01386068, -1.04529587, -1.1002255 , -1.08873498,\n",
       "       -1.10647343, -1.11271766, -1.07570098, -1.06811166, -1.09772343,\n",
       "       -1.20484031, -1.02330622, -1.07296757, -1.11891011, -1.16552033,\n",
       "       -1.06043807, -1.59847223, -1.09581546, -1.05682894, -1.03600435,\n",
       "       -1.20061233, -1.01830599, -1.09767375, -0.99046367, -0.95983415,\n",
       "       -0.93680725, -1.05510137, -0.96423246, -1.09690308, -1.05434691,\n",
       "       -1.07742049, -1.12084767, -1.01229713, -1.03899262, -1.09132701,\n",
       "       -1.09819796, -1.18462356, -1.06633763, -1.10290634, -1.12964435,\n",
       "       -1.07570184, -1.00105062, -1.08645651, -1.08745369, -1.0704174 ,\n",
       "       -1.78344958, -1.6524863 , -2.38141297, -2.24868655, -2.65514915,\n",
       "       -2.72091635, -3.00152062, -3.14320872, -2.22565206, -2.64128333,\n",
       "       -1.6980345 , -2.31831602, -3.148364  , -2.69149972, -2.12636499,\n",
       "       -2.08878579, -1.94586958, -2.28214662, -2.3051639 , -3.02224727,\n",
       "       -1.01472958, -1.04949707, -1.06161973, -0.98404171, -1.02486839,\n",
       "       -0.99435565, -0.94597608, -0.95291823, -1.05115341, -1.01199368,\n",
       "       -1.00622212, -1.00935883, -0.980987  , -1.00622171, -1.00621566,\n",
       "       -1.0060116 , -1.02974726, -1.14362003, -1.08663301, -0.96054305,\n",
       "       -1.04690423, -0.96413918, -0.97942425, -0.98885832, -0.99694334,\n",
       "       -1.0031146 , -1.04425262, -1.01144569, -1.00765132, -0.93638564,\n",
       "       -0.99147754, -0.99500834, -1.00853395, -1.01356397, -0.99843765,\n",
       "       -0.97487631, -0.96316903, -1.05804719, -0.93600572, -0.99018688,\n",
       "       -0.93780293, -0.98569654, -1.00118941, -1.00161947, -0.99285972,\n",
       "       -0.9830266 , -1.00793822, -1.02382691, -1.01045187, -1.0047415 ,\n",
       "       -0.95513986, -1.00034575, -0.99560911, -0.96408875, -0.99722195,\n",
       "       -1.09507816, -0.99323986, -1.00502726, -0.96723202, -0.95376873,\n",
       "       -0.96814833, -0.99176652, -0.93640384, -1.00949909, -0.94708422,\n",
       "       -1.01707945, -0.93685529, -0.97515677, -0.99874562, -0.97235335,\n",
       "       -1.27120491, -0.99179708, -0.96573487, -0.95068332, -0.99181151,\n",
       "       -0.97802203, -1.00592811, -1.01758736, -0.9597245 , -0.97924769,\n",
       "       -1.04074334, -1.00884122, -0.94933227, -0.98324177, -1.00087276,\n",
       "       -0.96310502, -0.94662245, -0.99051316, -0.98806157, -1.00679678,\n",
       "       -1.01471317, -1.01114101, -1.02249008, -1.00172479, -0.97957135,\n",
       "       -0.99198246, -0.99979882, -0.957851  , -0.98343818, -1.01692738])"
      ]
     },
     "execution_count": 108,
     "metadata": {},
     "output_type": "execute_result"
    }
   ],
   "source": [
    "score = clf.negative_outlier_factor_\n",
    "score"
   ]
  },
  {
   "cell_type": "code",
   "execution_count": 109,
   "metadata": {
    "collapsed": true
   },
   "outputs": [],
   "source": [
    "arr1inds = score.argsort()\n",
    "# sorted_arr1 = arr1[arr1inds[::-1]]\n",
    "# sorted_arr2 = arr2[arr1inds[::-1]]\n",
    "# EDIT: changed to descending order\n",
    "\n",
    "score_sorted = score[arr1inds]\n",
    "X_sorted = X[arr1inds]"
   ]
  },
  {
   "cell_type": "code",
   "execution_count": 110,
   "metadata": {},
   "outputs": [
    {
     "data": {
      "text/plain": [
       "15"
      ]
     },
     "execution_count": 110,
     "metadata": {},
     "output_type": "execute_result"
    }
   ],
   "source": [
    "fraction = int(len(X) * 0.05)\n",
    "fraction"
   ]
  },
  {
   "cell_type": "code",
   "execution_count": 111,
   "metadata": {},
   "outputs": [
    {
     "data": {
      "image/png": "[encoded data removed]",
      "text/plain": [
       "<matplotlib.figure.Figure at 0x7ff24428e978>"
      ]
     },
     "metadata": {},
     "output_type": "display_data"
    }
   ],
   "source": [
    "# plot the level sets of the decision function\n",
    "plt.close('all')\n",
    "xx, yy = np.meshgrid(np.linspace(-2, 2, 50), np.linspace(-1, 1, 50))\n",
    "Z = clf._decision_function(np.c_[xx.ravel(), yy.ravel()])\n",
    "Z = Z.reshape(xx.shape)\n",
    "\n",
    "plt.title(\"Local Outlier Factor (LOF)\")\n",
    "plt.contourf(xx, yy, Z, cmap=plt.cm.Blues_r)\n",
    "\n",
    "a = plt.scatter(X_sorted[0:fraction, 0], X_sorted[0:fraction, 1], c='red',\n",
    "                edgecolor='k', s=20)\n",
    "a = plt.scatter(X_sorted[fraction + 1:, 0], X_sorted[fraction + 1:, 1], c='white',\n",
    "                edgecolor='k', s=20)\n",
    "plt.axis('tight')\n",
    "plt.xlim((-2, 2))\n",
    "plt.ylim((-1, 1))\n",
    "plt.legend([a, b],\n",
    "           [\"normal observations\",\n",
    "            \"abnormal observations\"],\n",
    "           loc=\"upper left\")\n",
    "plt.show()"
   ]
  },
  {
   "cell_type": "code",
   "execution_count": 112,
   "metadata": {},
   "outputs": [
    {
     "data": {
      "text/plain": [
       "array([-3.148364  , -3.14320872, -3.02224727, -3.00152062, -2.72091635,\n",
       "       -2.69149972, -2.65514915, -2.64128333, -2.38141297, -2.31831602,\n",
       "       -2.3051639 , -2.28214662, -2.24868655, -2.22565206, -2.12636499])"
      ]
     },
     "execution_count": 112,
     "metadata": {},
     "output_type": "execute_result"
    }
   ],
   "source": [
    "score_sorted[:fraction]"
   ]
  },
  {
   "cell_type": "code",
   "execution_count": 113,
   "metadata": {},
   "outputs": [
    {
     "data": {
      "text/plain": [
       "array([[ 0.85815107, -0.87322237],\n",
       "       [ 0.7713365 , -0.88504456],\n",
       "       [ 0.94238404, -0.78839055],\n",
       "       [ 0.68049011, -0.84623353],\n",
       "       [ 1.13612754, -0.62289061],\n",
       "       [ 0.98921339, -0.62495808],\n",
       "       [ 0.35589914, -0.81471485],\n",
       "       [ 0.8670762 , -0.62577972],\n",
       "       [ 1.29253098, -0.44760748],\n",
       "       [ 1.2478639 , -0.42472419],\n",
       "       [ 1.13452857, -0.44327916],\n",
       "       [ 0.96842926, -0.45769769],\n",
       "       [ 0.67216191, -0.48521872],\n",
       "       [ 0.50684959, -0.53885901],\n",
       "       [ 0.75513812, -0.39167682]])"
      ]
     },
     "execution_count": 113,
     "metadata": {},
     "output_type": "execute_result"
    }
   ],
   "source": [
    "X_sorted[:fraction]"
   ]
  },
  {
   "cell_type": "code",
   "execution_count": 129,
   "metadata": {
    "collapsed": true
   },
   "outputs": [],
   "source": [
    "LocalOutlierFactor??"
   ]
  }
 ],
 "metadata": {
  "kernelspec": {
   "display_name": "Python 3",
   "language": "python",
   "name": "python3"
  },
  "language_info": {
   "codemirror_mode": {
    "name": "ipython",
    "version": 3
   },
   "file_extension": ".py",
   "mimetype": "text/x-python",
   "name": "python",
   "nbconvert_exporter": "python",
   "pygments_lexer": "ipython3",
   "version": "3.5.2"
  }
 },
 "nbformat": 4,
 "nbformat_minor": 1
}
